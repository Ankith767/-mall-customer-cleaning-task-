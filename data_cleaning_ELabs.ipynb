{
  "nbformat": 4,
  "nbformat_minor": 0,
  "metadata": {
    "colab": {
      "provenance": [],
      "gpuType": "T4"
    },
    "kernelspec": {
      "name": "python3",
      "display_name": "Python 3"
    },
    "language_info": {
      "name": "python"
    },
    "accelerator": "GPU"
  },
  "cells": [
    {
      "cell_type": "code",
      "source": [],
      "metadata": {
        "id": "vwuawg17-Jzp"
      },
      "execution_count": null,
      "outputs": []
    },
    {
      "cell_type": "code",
      "source": [
        "#  Mall Customer Segmentation – Task 1 Data Cleaning\n",
        "\n",
        "import pandas as pd\n",
        "\n",
        "# Load the dataset\n",
        "df = pd.read_csv(\"/content/Mall_Customers.csv\")\n",
        "\n",
        "#  Step 1: Standardize column headers\n",
        "df.columns = df.columns.str.lower().str.replace(\" \", \"_\")\n",
        "\n",
        "# Print columns after standardization to check the exact name\n",
        "print(\"Columns after standardization:\", df.columns)\n",
        "\n",
        "#  Step 2: Remove duplicates\n",
        "df.drop_duplicates(inplace=True)\n",
        "\n",
        "#  Step 3: Handle missing values\n",
        "# Use the confirmed column name 'customerid' from the print statement above\n",
        "df.fillna({\n",
        "    'customerid': df['customerid'].mode()[0],\n",
        "    'gender': 'unknown',\n",
        "    'age': df['age'].mean(),\n",
        "    'annual_income_(k$)': df['annual_income_(k$)'].median(),\n",
        "    'spending_score_(1-100)': df['spending_score_(1-100)'].median()\n",
        "}, inplace=True)\n",
        "\n",
        "#  Step 4: Standardize text values\n",
        "df['gender'] = df['gender'].str.strip().str.lower()\n",
        "\n",
        "#  Step 5: Fix data types\n",
        "# Use the confirmed column name 'customerid'\n",
        "df['customerid'] = df['customerid'].astype(int)\n",
        "df['age'] = df['age'].astype(int)\n",
        "df['annual_income_(k$)'] = df['annual_income_(k$)'].astype(int)\n",
        "df['spending_score_(1-100)'] = df['spending_score_(1-100)'].astype(int)\n",
        "\n",
        "#  Step 6: Save cleaned dataset\n",
        "df.to_csv(\"/content/cleaned_mall_customers.csv\", index=False)\n",
        "print(\" Cleaned dataset saved to /content/cleaned_mall_customers.csv\")\n",
        "\n",
        "#  Optional: Show result summary\n",
        "print(\"\\n Summary:\")\n",
        "print(f\"Rows: {df.shape[0]}, Columns: {df.shape[1]}\")\n",
        "print(\"Nulls after cleaning:\\n\", df.isnull().sum())\n",
        "print(\"Sample:\\n\", df.head())"
      ],
      "metadata": {
        "colab": {
          "base_uri": "https://localhost:8080/"
        },
        "id": "NQHu31dq8Y6H",
        "outputId": "1240aa7b-787d-4f68-b031-c9e55cd2a9b0"
      },
      "execution_count": 2,
      "outputs": [
        {
          "output_type": "stream",
          "name": "stdout",
          "text": [
            "Columns after standardization: Index(['customerid', 'gender', 'age', 'annual_income_(k$)',\n",
            "       'spending_score_(1-100)'],\n",
            "      dtype='object')\n",
            " Cleaned dataset saved to /content/cleaned_mall_customers.csv\n",
            "\n",
            " Summary:\n",
            "Rows: 200, Columns: 5\n",
            "Nulls after cleaning:\n",
            " customerid                0\n",
            "gender                    0\n",
            "age                       0\n",
            "annual_income_(k$)        0\n",
            "spending_score_(1-100)    0\n",
            "dtype: int64\n",
            "Sample:\n",
            "    customerid  gender  age  annual_income_(k$)  spending_score_(1-100)\n",
            "0           1    male   19                  15                      39\n",
            "1           2    male   21                  15                      81\n",
            "2           3  female   20                  16                       6\n",
            "3           4  female   23                  16                      77\n",
            "4           5  female   31                  17                      40\n"
          ]
        }
      ]
    },
    {
      "cell_type": "code",
      "source": [],
      "metadata": {
        "id": "arEs_QNt-OC-"
      },
      "execution_count": null,
      "outputs": []
    }
  ]
}